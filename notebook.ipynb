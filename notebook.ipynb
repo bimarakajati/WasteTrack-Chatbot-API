{
  "cells": [
    {
      "cell_type": "markdown",
      "metadata": {},
      "source": [
        "# Import Library"
      ]
    },
    {
      "cell_type": "code",
      "execution_count": 3,
      "metadata": {
        "id": "G0p5Bj1Hx-io"
      },
      "outputs": [],
      "source": [
        "from nltk.stem import WordNetLemmatizer\n",
        "from sklearn.model_selection import train_test_split\n",
        "from sklearn.preprocessing import LabelEncoder\n",
        "from tensorflow.keras import regularizers\n",
        "from tensorflow.keras.layers import Flatten, Dense\n",
        "from tensorflow.keras.layers import Input, Embedding, LSTM, Dropout, Bidirectional, GRU\n",
        "from tensorflow.keras.models import Model\n",
        "from tensorflow.keras.optimizers import Adam\n",
        "from tensorflow.keras.preprocessing.sequence import pad_sequences\n",
        "from tensorflow.keras.preprocessing.text import Tokenizer\n",
        "import json\n",
        "import matplotlib.pyplot as plt\n",
        "import nltk\n",
        "import numpy as np\n",
        "import pandas as pd\n",
        "import random\n",
        "import string\n",
        "import tensorflow as tf"
      ]
    },
    {
      "cell_type": "code",
      "execution_count": 5,
      "metadata": {
        "colab": {
          "base_uri": "https://localhost:8080/"
        },
        "id": "WwxUoXK3zRcm",
        "outputId": "25e545e5-89b3-4b75-a823-a991b25767be"
      },
      "outputs": [
        {
          "name": "stderr",
          "output_type": "stream",
          "text": [
            "[nltk_data] Downloading package punkt to /root/nltk_data...\n",
            "[nltk_data]   Unzipping tokenizers/punkt.zip.\n",
            "[nltk_data] Downloading package wordnet to /root/nltk_data...\n",
            "[nltk_data] Downloading package omw-1.4 to /root/nltk_data...\n"
          ]
        },
        {
          "data": {
            "text/plain": [
              "True"
            ]
          },
          "execution_count": 5,
          "metadata": {},
          "output_type": "execute_result"
        }
      ],
      "source": [
        "# Package sentence tokenizer\n",
        "nltk.download('punkt')\n",
        "# Package lemmatization\n",
        "nltk.download('wordnet')\n",
        "# Package multilingual wordnet data\n",
        "nltk.download('omw-1.4')"
      ]
    },
    {
      "cell_type": "markdown",
      "metadata": {},
      "source": [
        "# Open the data file"
      ]
    },
    {
      "cell_type": "code",
      "execution_count": 4,
      "metadata": {
        "id": "tG5BIhNYyHdU"
      },
      "outputs": [],
      "source": [
        "with open('/content/waste_management3.json') as content:\n",
        "  data = json.load(content)"
      ]
    },
    {
      "cell_type": "markdown",
      "metadata": {},
      "source": [
        "# Create a list of the data"
      ]
    },
    {
      "cell_type": "code",
      "execution_count": 6,
      "metadata": {
        "id": "w-QY9K7hyLTk"
      },
      "outputs": [],
      "source": [
        "# Mendapatkan semua data ke dalam list\n",
        "tags = [] # Data tag\n",
        "inputs = [] # Data input atau pattern\n",
        "responses = {} # Data respon\n",
        "words = [] # Data kata\n",
        "classes = [] # Data Kelas atau Tag\n",
        "documents = [] # Data Kalimat Dokumen\n",
        "ignore_words = ['?', '!'] # Mengabaikan tanda spesial karakter\n",
        "\n",
        "for intent in data['intents']:\n",
        "  responses[intent['tag']]=intent['responses']\n",
        "  for lines in intent['patterns']:\n",
        "    inputs.append(lines)\n",
        "    tags.append(intent['tag'])\n",
        "    for pattern in intent['patterns']:\n",
        "      w = nltk.word_tokenize(pattern)\n",
        "      words.extend(w)\n",
        "      documents.append((w, intent['tag']))\n",
        "      # Add to our classes list\n",
        "      if intent['tag'] not in classes:\n",
        "        classes.append(intent['tag'])"
      ]
    },
    {
      "cell_type": "markdown",
      "metadata": {},
      "source": [
        "# Split the data into training and testing data"
      ]
    },
    {
      "cell_type": "code",
      "execution_count": 8,
      "metadata": {
        "id": "jGpnIAWEyP-P"
      },
      "outputs": [],
      "source": [
        "# Split dataset into training set and test set\n",
        "X_train, X_test, y_train, y_test = train_test_split(inputs, tags,test_size=0.2, random_state=42)\n",
        "\n",
        "# Konversi data ke dalam dataframe\n",
        "train_data = pd.DataFrame({\"patterns\": X_train, \"tags\": y_train})\n",
        "test_data = pd.DataFrame({\"patterns\": X_test, \"tags\": y_test})"
      ]
    },
    {
      "cell_type": "markdown",
      "metadata": {},
      "source": [
        "# Lowercase and remove punctuation"
      ]
    },
    {
      "cell_type": "code",
      "execution_count": 13,
      "metadata": {
        "id": "cQeG3ZFEyRLy"
      },
      "outputs": [],
      "source": [
        "train_data['patterns'] = train_data['patterns'].apply(lambda wrd: [ltrs.lower() for ltrs in wrd if ltrs not in string.punctuation])\n",
        "train_data['patterns'] = train_data['patterns'].apply(lambda wrd: ''.join(wrd))\n",
        "test_data['patterns'] = test_data['patterns'].apply(lambda wrd: [ltrs.lower() for ltrs in wrd if ltrs not in string.punctuation])\n",
        "test_data['patterns'] = test_data['patterns'].apply(lambda wrd: ''.join(wrd))"
      ]
    },
    {
      "cell_type": "markdown",
      "metadata": {},
      "source": [
        "# Lemmatize the words"
      ]
    },
    {
      "cell_type": "code",
      "execution_count": 14,
      "metadata": {
        "id": "KtXY6PSl5j-P"
      },
      "outputs": [],
      "source": [
        "# Inisialisasi Lemmatizer\n",
        "lemmatizer = WordNetLemmatizer()\n",
        "\n",
        "# Fungsi untuk melakukan lemmatization pada kata-kata dalam kalimat\n",
        "def lemmatize_text(text):\n",
        "    tokens = nltk.word_tokenize(text)  # Tokenisasi kata-kata dalam kalimat\n",
        "    lemmatized_tokens = [lemmatizer.lemmatize(token) for token in tokens]  # Lemmatization\n",
        "    lemmatized_text = ' '.join(lemmatized_tokens)  # Menggabungkan kembali kata-kata menjadi kalimat\n",
        "    return lemmatized_text\n",
        "\n",
        "# Contoh penggunaan fungsi lemmatize_text pada dataset\n",
        "train_data['patterns'] = train_data['patterns'].apply(lemmatize_text)\n",
        "test_data['patterns'] = test_data['patterns'].apply(lemmatize_text)"
      ]
    },
    {
      "cell_type": "markdown",
      "metadata": {},
      "source": [
        "# Create a bag of words"
      ]
    },
    {
      "cell_type": "code",
      "execution_count": 15,
      "metadata": {
        "id": "Oj_OfY-Jyckg"
      },
      "outputs": [],
      "source": [
        "# Tokenize the data (Tokenisasi Data)\n",
        "tokenizer = Tokenizer(num_words=2000)\n",
        "tokenizer.fit_on_texts(train_data['patterns'])\n",
        "\n",
        "x_train = tokenizer.texts_to_sequences(train_data['patterns'])\n",
        "x_test = tokenizer.texts_to_sequences(test_data['patterns'])"
      ]
    },
    {
      "cell_type": "markdown",
      "metadata": {},
      "source": [
        "# Apply padding to the bag of words"
      ]
    },
    {
      "cell_type": "code",
      "execution_count": 16,
      "metadata": {
        "id": "lcMsfSegyisb"
      },
      "outputs": [],
      "source": [
        "# Apply padding\n",
        "max_sequence_length = max(len(seq) for seq in x_train + x_test)\n",
        "x_train = pad_sequences(x_train, maxlen=max_sequence_length)\n",
        "x_test = pad_sequences(x_test, maxlen=max_sequence_length)"
      ]
    },
    {
      "cell_type": "markdown",
      "metadata": {},
      "source": [
        "# Label encode the target"
      ]
    },
    {
      "cell_type": "code",
      "execution_count": 17,
      "metadata": {
        "id": "9DODB0svyseu"
      },
      "outputs": [],
      "source": [
        "# Combine tags from train_data and test_data\n",
        "all_tags = list(set(train_data['tags']) | set(test_data['tags']))\n",
        "\n",
        "# Encoding the outputs\n",
        "le = LabelEncoder()\n",
        "le.fit(all_tags)\n",
        "\n",
        "y_train = le.transform(train_data['tags'])\n",
        "y_test = le.transform(test_data['tags'])"
      ]
    },
    {
      "cell_type": "markdown",
      "metadata": {},
      "source": [
        "# Split the data into training and testing data"
      ]
    },
    {
      "cell_type": "code",
      "execution_count": 18,
      "metadata": {
        "id": "pBSWgeHhyu42"
      },
      "outputs": [],
      "source": [
        "# Splitting the dataset\n",
        "train_dataset = (x_train, y_train)\n",
        "test_dataset = (x_test, y_test)"
      ]
    },
    {
      "cell_type": "markdown",
      "metadata": {},
      "source": [
        "# Create the model"
      ]
    },
    {
      "cell_type": "code",
      "execution_count": 19,
      "metadata": {
        "colab": {
          "base_uri": "https://localhost:8080/"
        },
        "id": "AQrfnYeMyw8I",
        "outputId": "c5b77d35-c70d-4e40-83da-473d385a0509"
      },
      "outputs": [
        {
          "name": "stdout",
          "output_type": "stream",
          "text": [
            "Model: \"model\"\n",
            "_________________________________________________________________\n",
            " Layer (type)                Output Shape              Param #   \n",
            "=================================================================\n",
            " input_1 (InputLayer)        [(None, 16)]              0         \n",
            "                                                                 \n",
            " embedding (Embedding)       (None, 16, 100)           17500     \n",
            "                                                                 \n",
            " bidirectional (Bidirection  (None, 16, 64)            34048     \n",
            " al)                                                             \n",
            "                                                                 \n",
            " bidirectional_1 (Bidirecti  (None, 16, 128)           49920     \n",
            " onal)                                                           \n",
            "                                                                 \n",
            " flatten (Flatten)           (None, 2048)              0         \n",
            "                                                                 \n",
            " dense (Dense)               (None, 50)                102450    \n",
            "                                                                 \n",
            " dropout (Dropout)           (None, 50)                0         \n",
            "                                                                 \n",
            " dense_1 (Dense)             (None, 44)                2244      \n",
            "                                                                 \n",
            "=================================================================\n",
            "Total params: 206162 (805.32 KB)\n",
            "Trainable params: 206162 (805.32 KB)\n",
            "Non-trainable params: 0 (0.00 Byte)\n",
            "_________________________________________________________________\n"
          ]
        }
      ],
      "source": [
        "# Menambahkan regularisasi L2\n",
        "regularization = regularizers.l2(0.01)\n",
        "\n",
        "# Mengubah tingkat dropout menjadi 0.5\n",
        "dropout_rate = 0.5\n",
        "\n",
        "# Mendefinisikan input layer\n",
        "i = Input(shape=(max_sequence_length,))\n",
        "\n",
        "# Embedding layer\n",
        "embedding_size = 100\n",
        "x = Embedding(len(tokenizer.word_index) + 1, embedding_size)(i)\n",
        "\n",
        "# Bidirectional LSTM layer\n",
        "lstm_units = 32\n",
        "x = Bidirectional(LSTM(lstm_units, return_sequences=True))(x)\n",
        "\n",
        "# Bidirectional GRU layer\n",
        "gru_units = 64\n",
        "x = Bidirectional(GRU(gru_units, return_sequences=True))(x)\n",
        "\n",
        "# Flatten layer\n",
        "x = Flatten()(x)\n",
        "\n",
        "# Dense layer with L2 regularization\n",
        "dense_units = 50\n",
        "x = Dense(dense_units, activation='relu', kernel_regularizer=regularization)(x)\n",
        "x = Dropout(dropout_rate)(x)\n",
        "\n",
        "# Output layer\n",
        "num_classes = len(classes)\n",
        "x = Dense(num_classes, activation=\"softmax\")(x)\n",
        "model = Model(i, x)\n",
        "\n",
        "model.summary()"
      ]
    },
    {
      "cell_type": "markdown",
      "metadata": {},
      "source": [
        "# Callbacks"
      ]
    },
    {
      "cell_type": "code",
      "execution_count": 20,
      "metadata": {
        "id": "gDiz8PXGuRWZ"
      },
      "outputs": [],
      "source": [
        "class myCallback(tf.keras.callbacks.Callback):\n",
        "    # Define the method that checks the accuracy at the end of each epoch\n",
        "    def on_epoch_end(self, epoch, logs={}):\n",
        "        if logs.get('val_accuracy') > 0.8:\n",
        "            print(\"\\nReached 0.7 val acc so cancelling training!\")\n",
        "\n",
        "            # Stop training once the above condition is met\n",
        "            self.model.stop_training = True"
      ]
    },
    {
      "cell_type": "markdown",
      "metadata": {},
      "source": [
        "# Initialize the optimizer"
      ]
    },
    {
      "cell_type": "code",
      "execution_count": 21,
      "metadata": {
        "id": "r-DsQhQ06R3M"
      },
      "outputs": [],
      "source": [
        "learning_rate = 0.001\n",
        "optimizer = Adam(learning_rate=learning_rate)\n",
        "\n",
        "# Instantiate the callback class\n",
        "cb = myCallback()"
      ]
    },
    {
      "cell_type": "markdown",
      "metadata": {},
      "source": [
        "# Compile the model"
      ]
    },
    {
      "cell_type": "code",
      "execution_count": 22,
      "metadata": {
        "id": "WBF2qrzFy0AR"
      },
      "outputs": [],
      "source": [
        "# Compiling the model\n",
        "model.compile(loss=\"sparse_categorical_crossentropy\", optimizer=optimizer, metrics=['accuracy'])"
      ]
    },
    {
      "cell_type": "markdown",
      "metadata": {},
      "source": [
        "# Train the model"
      ]
    },
    {
      "cell_type": "code",
      "execution_count": 23,
      "metadata": {
        "colab": {
          "base_uri": "https://localhost:8080/"
        },
        "id": "iBQDyHxZy2Ku",
        "outputId": "83616da8-99f3-4630-98d0-96d2bed1e636"
      },
      "outputs": [
        {
          "name": "stdout",
          "output_type": "stream",
          "text": [
            "Epoch 1/500\n",
            "7/7 [==============================] - 17s 347ms/step - loss: 4.6222 - accuracy: 0.0269 - val_loss: 4.4619 - val_accuracy: 0.0179\n",
            "Epoch 2/500\n",
            "7/7 [==============================] - 1s 122ms/step - loss: 4.3436 - accuracy: 0.0314 - val_loss: 4.2489 - val_accuracy: 0.0179\n",
            "Epoch 3/500\n",
            "7/7 [==============================] - 1s 90ms/step - loss: 4.1342 - accuracy: 0.0359 - val_loss: 4.0906 - val_accuracy: 0.0179\n",
            "Epoch 4/500\n",
            "7/7 [==============================] - 1s 86ms/step - loss: 4.0119 - accuracy: 0.0538 - val_loss: 3.9618 - val_accuracy: 0.0179\n",
            "Epoch 5/500\n",
            "7/7 [==============================] - 0s 18ms/step - loss: 3.8703 - accuracy: 0.0493 - val_loss: 3.8453 - val_accuracy: 0.0179\n",
            "Epoch 6/500\n",
            "7/7 [==============================] - 1s 59ms/step - loss: 3.7413 - accuracy: 0.0852 - val_loss: 3.7039 - val_accuracy: 0.0357\n",
            "Epoch 7/500\n",
            "7/7 [==============================] - 0s 56ms/step - loss: 3.6271 - accuracy: 0.0673 - val_loss: 3.6089 - val_accuracy: 0.0357\n",
            "Epoch 8/500\n",
            "7/7 [==============================] - 0s 58ms/step - loss: 3.5917 - accuracy: 0.0762 - val_loss: 3.5167 - val_accuracy: 0.0357\n",
            "Epoch 9/500\n",
            "7/7 [==============================] - 1s 102ms/step - loss: 3.5032 - accuracy: 0.0897 - val_loss: 3.4593 - val_accuracy: 0.0893\n",
            "Epoch 10/500\n",
            "7/7 [==============================] - 1s 106ms/step - loss: 3.4249 - accuracy: 0.0942 - val_loss: 3.4019 - val_accuracy: 0.0714\n",
            "Epoch 11/500\n",
            "7/7 [==============================] - 0s 52ms/step - loss: 3.4086 - accuracy: 0.0673 - val_loss: 3.3439 - val_accuracy: 0.0714\n",
            "Epoch 12/500\n",
            "7/7 [==============================] - 0s 15ms/step - loss: 3.2806 - accuracy: 0.0987 - val_loss: 3.3017 - val_accuracy: 0.0357\n",
            "Epoch 13/500\n",
            "7/7 [==============================] - 0s 15ms/step - loss: 3.1976 - accuracy: 0.1211 - val_loss: 3.1466 - val_accuracy: 0.1250\n",
            "Epoch 14/500\n",
            "7/7 [==============================] - 0s 15ms/step - loss: 3.2162 - accuracy: 0.1076 - val_loss: 3.1705 - val_accuracy: 0.0893\n",
            "Epoch 15/500\n",
            "7/7 [==============================] - 0s 43ms/step - loss: 3.0903 - accuracy: 0.1345 - val_loss: 3.0937 - val_accuracy: 0.0536\n",
            "Epoch 16/500\n",
            "7/7 [==============================] - 0s 39ms/step - loss: 2.9719 - accuracy: 0.1614 - val_loss: 3.1025 - val_accuracy: 0.0893\n",
            "Epoch 17/500\n",
            "7/7 [==============================] - 0s 15ms/step - loss: 2.8978 - accuracy: 0.1659 - val_loss: 2.9415 - val_accuracy: 0.1071\n",
            "Epoch 18/500\n",
            "7/7 [==============================] - 0s 19ms/step - loss: 2.8422 - accuracy: 0.1794 - val_loss: 2.9351 - val_accuracy: 0.1429\n",
            "Epoch 19/500\n",
            "7/7 [==============================] - 0s 17ms/step - loss: 2.7845 - accuracy: 0.2287 - val_loss: 2.8084 - val_accuracy: 0.1964\n",
            "Epoch 20/500\n",
            "7/7 [==============================] - 0s 17ms/step - loss: 2.7099 - accuracy: 0.2197 - val_loss: 2.7115 - val_accuracy: 0.1071\n",
            "Epoch 21/500\n",
            "7/7 [==============================] - 0s 41ms/step - loss: 2.5683 - accuracy: 0.2197 - val_loss: 2.6975 - val_accuracy: 0.1607\n",
            "Epoch 22/500\n",
            "7/7 [==============================] - 0s 14ms/step - loss: 2.4908 - accuracy: 0.2735 - val_loss: 2.6463 - val_accuracy: 0.1071\n",
            "Epoch 23/500\n",
            "7/7 [==============================] - 0s 16ms/step - loss: 2.4789 - accuracy: 0.2870 - val_loss: 2.6683 - val_accuracy: 0.1964\n",
            "Epoch 24/500\n",
            "7/7 [==============================] - 0s 20ms/step - loss: 2.3941 - accuracy: 0.2960 - val_loss: 2.5297 - val_accuracy: 0.2679\n",
            "Epoch 25/500\n",
            "7/7 [==============================] - 0s 15ms/step - loss: 2.5375 - accuracy: 0.2511 - val_loss: 2.4887 - val_accuracy: 0.2679\n",
            "Epoch 26/500\n",
            "7/7 [==============================] - 0s 41ms/step - loss: 2.3138 - accuracy: 0.3139 - val_loss: 2.3914 - val_accuracy: 0.2143\n",
            "Epoch 27/500\n",
            "7/7 [==============================] - 0s 15ms/step - loss: 2.3017 - accuracy: 0.3049 - val_loss: 2.4630 - val_accuracy: 0.3036\n",
            "Epoch 28/500\n",
            "7/7 [==============================] - 0s 14ms/step - loss: 2.1785 - accuracy: 0.3318 - val_loss: 2.3236 - val_accuracy: 0.2857\n",
            "Epoch 29/500\n",
            "7/7 [==============================] - 0s 15ms/step - loss: 2.1482 - accuracy: 0.3812 - val_loss: 2.1643 - val_accuracy: 0.3214\n",
            "Epoch 30/500\n",
            "7/7 [==============================] - 0s 15ms/step - loss: 1.9922 - accuracy: 0.3857 - val_loss: 2.1429 - val_accuracy: 0.3750\n",
            "Epoch 31/500\n",
            "7/7 [==============================] - 0s 17ms/step - loss: 1.8702 - accuracy: 0.4395 - val_loss: 2.0779 - val_accuracy: 0.4107\n",
            "Epoch 32/500\n",
            "7/7 [==============================] - 0s 18ms/step - loss: 1.7644 - accuracy: 0.4170 - val_loss: 2.0266 - val_accuracy: 0.4286\n",
            "Epoch 33/500\n",
            "7/7 [==============================] - 0s 17ms/step - loss: 1.7139 - accuracy: 0.4664 - val_loss: 2.0644 - val_accuracy: 0.4643\n",
            "Epoch 34/500\n",
            "7/7 [==============================] - 0s 15ms/step - loss: 1.7408 - accuracy: 0.4753 - val_loss: 1.9344 - val_accuracy: 0.4464\n",
            "Epoch 35/500\n",
            "7/7 [==============================] - 0s 14ms/step - loss: 1.6292 - accuracy: 0.5291 - val_loss: 1.9564 - val_accuracy: 0.5357\n",
            "Epoch 36/500\n",
            "7/7 [==============================] - 0s 42ms/step - loss: 1.6142 - accuracy: 0.5112 - val_loss: 1.7698 - val_accuracy: 0.6071\n",
            "Epoch 37/500\n",
            "7/7 [==============================] - 0s 17ms/step - loss: 1.4712 - accuracy: 0.5605 - val_loss: 1.8222 - val_accuracy: 0.5179\n",
            "Epoch 38/500\n",
            "7/7 [==============================] - 0s 15ms/step - loss: 1.6080 - accuracy: 0.4888 - val_loss: 1.7474 - val_accuracy: 0.5893\n",
            "Epoch 39/500\n",
            "7/7 [==============================] - 0s 19ms/step - loss: 1.4194 - accuracy: 0.6009 - val_loss: 1.8245 - val_accuracy: 0.5714\n",
            "Epoch 40/500\n",
            "7/7 [==============================] - 0s 14ms/step - loss: 1.3848 - accuracy: 0.5874 - val_loss: 1.8635 - val_accuracy: 0.5357\n",
            "Epoch 41/500\n",
            "7/7 [==============================] - 0s 16ms/step - loss: 1.3217 - accuracy: 0.6368 - val_loss: 1.6529 - val_accuracy: 0.5893\n",
            "Epoch 42/500\n",
            "7/7 [==============================] - 0s 15ms/step - loss: 1.4472 - accuracy: 0.5785 - val_loss: 1.6168 - val_accuracy: 0.5536\n",
            "Epoch 43/500\n",
            "7/7 [==============================] - 0s 16ms/step - loss: 1.3554 - accuracy: 0.6099 - val_loss: 1.7975 - val_accuracy: 0.5893\n",
            "Epoch 44/500\n",
            "7/7 [==============================] - 0s 17ms/step - loss: 1.2889 - accuracy: 0.6143 - val_loss: 1.4944 - val_accuracy: 0.6250\n",
            "Epoch 45/500\n",
            "7/7 [==============================] - 0s 16ms/step - loss: 1.2560 - accuracy: 0.6188 - val_loss: 1.7030 - val_accuracy: 0.5714\n",
            "Epoch 46/500\n",
            "7/7 [==============================] - 0s 19ms/step - loss: 1.1305 - accuracy: 0.7040 - val_loss: 1.7228 - val_accuracy: 0.6071\n",
            "Epoch 47/500\n",
            "7/7 [==============================] - 0s 43ms/step - loss: 1.1216 - accuracy: 0.6413 - val_loss: 1.6612 - val_accuracy: 0.6786\n",
            "Epoch 48/500\n",
            "7/7 [==============================] - 0s 14ms/step - loss: 1.1323 - accuracy: 0.6771 - val_loss: 1.5284 - val_accuracy: 0.6964\n",
            "Epoch 49/500\n",
            "7/7 [==============================] - 0s 15ms/step - loss: 0.9821 - accuracy: 0.7399 - val_loss: 1.4751 - val_accuracy: 0.6607\n",
            "Epoch 50/500\n",
            "7/7 [==============================] - 0s 18ms/step - loss: 1.0624 - accuracy: 0.7085 - val_loss: 1.5004 - val_accuracy: 0.6429\n",
            "Epoch 51/500\n",
            "7/7 [==============================] - 0s 16ms/step - loss: 1.0494 - accuracy: 0.7354 - val_loss: 1.4061 - val_accuracy: 0.6786\n",
            "Epoch 52/500\n",
            "7/7 [==============================] - 0s 16ms/step - loss: 0.9165 - accuracy: 0.7578 - val_loss: 1.4873 - val_accuracy: 0.6429\n",
            "Epoch 53/500\n",
            "7/7 [==============================] - 0s 17ms/step - loss: 0.8473 - accuracy: 0.7982 - val_loss: 1.5529 - val_accuracy: 0.6964\n",
            "Epoch 54/500\n",
            "7/7 [==============================] - 0s 20ms/step - loss: 0.9054 - accuracy: 0.7578 - val_loss: 1.5549 - val_accuracy: 0.6964\n",
            "Epoch 55/500\n",
            "7/7 [==============================] - 0s 15ms/step - loss: 1.0302 - accuracy: 0.7175 - val_loss: 1.5757 - val_accuracy: 0.7143\n",
            "Epoch 56/500\n",
            "7/7 [==============================] - 0s 15ms/step - loss: 0.8223 - accuracy: 0.8027 - val_loss: 1.5233 - val_accuracy: 0.6964\n",
            "Epoch 57/500\n",
            "7/7 [==============================] - 0s 15ms/step - loss: 0.8280 - accuracy: 0.8027 - val_loss: 1.5134 - val_accuracy: 0.7321\n",
            "Epoch 58/500\n",
            "7/7 [==============================] - 0s 17ms/step - loss: 0.8186 - accuracy: 0.7937 - val_loss: 1.6801 - val_accuracy: 0.6786\n",
            "Epoch 59/500\n",
            "7/7 [==============================] - 0s 15ms/step - loss: 0.8867 - accuracy: 0.7668 - val_loss: 1.6238 - val_accuracy: 0.6964\n",
            "Epoch 60/500\n",
            "7/7 [==============================] - 0s 16ms/step - loss: 0.7793 - accuracy: 0.8117 - val_loss: 1.5545 - val_accuracy: 0.6964\n",
            "Epoch 61/500\n",
            "7/7 [==============================] - 0s 16ms/step - loss: 0.7943 - accuracy: 0.8341 - val_loss: 1.5695 - val_accuracy: 0.6964\n",
            "Epoch 62/500\n",
            "7/7 [==============================] - 0s 18ms/step - loss: 0.6979 - accuracy: 0.8430 - val_loss: 1.6413 - val_accuracy: 0.6607\n",
            "Epoch 63/500\n",
            "7/7 [==============================] - 0s 19ms/step - loss: 0.7321 - accuracy: 0.8072 - val_loss: 1.6521 - val_accuracy: 0.6786\n",
            "Epoch 64/500\n",
            "7/7 [==============================] - 0s 16ms/step - loss: 0.6937 - accuracy: 0.8386 - val_loss: 1.5393 - val_accuracy: 0.6964\n",
            "Epoch 65/500\n",
            "7/7 [==============================] - 0s 14ms/step - loss: 0.7271 - accuracy: 0.8251 - val_loss: 1.6517 - val_accuracy: 0.6964\n",
            "Epoch 66/500\n",
            "7/7 [==============================] - 0s 16ms/step - loss: 0.6917 - accuracy: 0.8475 - val_loss: 1.7370 - val_accuracy: 0.7321\n",
            "Epoch 67/500\n",
            "7/7 [==============================] - 0s 17ms/step - loss: 0.7156 - accuracy: 0.8296 - val_loss: 1.6828 - val_accuracy: 0.6964\n",
            "Epoch 68/500\n",
            "7/7 [==============================] - 0s 14ms/step - loss: 0.6330 - accuracy: 0.8520 - val_loss: 1.7366 - val_accuracy: 0.7143\n",
            "Epoch 69/500\n",
            "7/7 [==============================] - 0s 16ms/step - loss: 0.6673 - accuracy: 0.8655 - val_loss: 1.8460 - val_accuracy: 0.7143\n",
            "Epoch 70/500\n",
            "7/7 [==============================] - 0s 16ms/step - loss: 0.6542 - accuracy: 0.8430 - val_loss: 1.6313 - val_accuracy: 0.7500\n",
            "Epoch 71/500\n",
            "7/7 [==============================] - 0s 19ms/step - loss: 0.6142 - accuracy: 0.8610 - val_loss: 1.6792 - val_accuracy: 0.7321\n",
            "Epoch 72/500\n",
            "7/7 [==============================] - 0s 17ms/step - loss: 0.6727 - accuracy: 0.8655 - val_loss: 1.6060 - val_accuracy: 0.7143\n",
            "Epoch 73/500\n",
            "7/7 [==============================] - 0s 16ms/step - loss: 0.6305 - accuracy: 0.8251 - val_loss: 1.6321 - val_accuracy: 0.7321\n",
            "Epoch 74/500\n",
            "7/7 [==============================] - 0s 39ms/step - loss: 0.6450 - accuracy: 0.8430 - val_loss: 1.6941 - val_accuracy: 0.7143\n",
            "Epoch 75/500\n",
            "7/7 [==============================] - 0s 16ms/step - loss: 0.6428 - accuracy: 0.8341 - val_loss: 1.6156 - val_accuracy: 0.7321\n",
            "Epoch 76/500\n",
            "7/7 [==============================] - 0s 16ms/step - loss: 0.5390 - accuracy: 0.8969 - val_loss: 1.6111 - val_accuracy: 0.7500\n",
            "Epoch 77/500\n",
            "7/7 [==============================] - 0s 14ms/step - loss: 0.6109 - accuracy: 0.8341 - val_loss: 1.7737 - val_accuracy: 0.7143\n",
            "Epoch 78/500\n",
            "7/7 [==============================] - 0s 16ms/step - loss: 0.6032 - accuracy: 0.8610 - val_loss: 1.6559 - val_accuracy: 0.7500\n",
            "Epoch 79/500\n",
            "7/7 [==============================] - 0s 17ms/step - loss: 0.5698 - accuracy: 0.9013 - val_loss: 1.7756 - val_accuracy: 0.7500\n",
            "Epoch 80/500\n",
            "7/7 [==============================] - 0s 19ms/step - loss: 0.5535 - accuracy: 0.8969 - val_loss: 1.8019 - val_accuracy: 0.6964\n",
            "Epoch 81/500\n",
            "7/7 [==============================] - 0s 15ms/step - loss: 0.5119 - accuracy: 0.9103 - val_loss: 1.7277 - val_accuracy: 0.7321\n",
            "Epoch 82/500\n",
            "7/7 [==============================] - 0s 16ms/step - loss: 0.5373 - accuracy: 0.9013 - val_loss: 1.7340 - val_accuracy: 0.7500\n",
            "Epoch 83/500\n",
            "7/7 [==============================] - 0s 15ms/step - loss: 0.5285 - accuracy: 0.8834 - val_loss: 1.7597 - val_accuracy: 0.7321\n",
            "Epoch 84/500\n",
            "7/7 [==============================] - 0s 15ms/step - loss: 0.4860 - accuracy: 0.9193 - val_loss: 1.7003 - val_accuracy: 0.6964\n",
            "Epoch 85/500\n",
            "7/7 [==============================] - 0s 15ms/step - loss: 0.5284 - accuracy: 0.9013 - val_loss: 1.8695 - val_accuracy: 0.7143\n",
            "Epoch 86/500\n",
            "7/7 [==============================] - 0s 15ms/step - loss: 0.4968 - accuracy: 0.8924 - val_loss: 1.8149 - val_accuracy: 0.7500\n",
            "Epoch 87/500\n",
            "7/7 [==============================] - 0s 24ms/step - loss: 0.5427 - accuracy: 0.8834 - val_loss: 1.7076 - val_accuracy: 0.7500\n",
            "Epoch 88/500\n",
            "7/7 [==============================] - 0s 25ms/step - loss: 0.4540 - accuracy: 0.9103 - val_loss: 1.7697 - val_accuracy: 0.7321\n",
            "Epoch 89/500\n",
            "7/7 [==============================] - 0s 22ms/step - loss: 0.4117 - accuracy: 0.9596 - val_loss: 1.6733 - val_accuracy: 0.7679\n",
            "Epoch 90/500\n",
            "7/7 [==============================] - 0s 20ms/step - loss: 0.4567 - accuracy: 0.9238 - val_loss: 1.8667 - val_accuracy: 0.7143\n",
            "Epoch 91/500\n",
            "7/7 [==============================] - 0s 21ms/step - loss: 0.4811 - accuracy: 0.8789 - val_loss: 1.7322 - val_accuracy: 0.7321\n",
            "Epoch 92/500\n",
            "7/7 [==============================] - 0s 22ms/step - loss: 0.4119 - accuracy: 0.9462 - val_loss: 1.6666 - val_accuracy: 0.7500\n",
            "Epoch 93/500\n",
            "7/7 [==============================] - 0s 21ms/step - loss: 0.4430 - accuracy: 0.9103 - val_loss: 1.6731 - val_accuracy: 0.7500\n",
            "Epoch 94/500\n",
            "7/7 [==============================] - 0s 26ms/step - loss: 0.4179 - accuracy: 0.9148 - val_loss: 1.7670 - val_accuracy: 0.7321\n",
            "Epoch 95/500\n",
            "7/7 [==============================] - 0s 23ms/step - loss: 0.5257 - accuracy: 0.8969 - val_loss: 1.6891 - val_accuracy: 0.7679\n",
            "Epoch 96/500\n",
            "7/7 [==============================] - 0s 21ms/step - loss: 0.4597 - accuracy: 0.8879 - val_loss: 1.7010 - val_accuracy: 0.7500\n",
            "Epoch 97/500\n",
            "7/7 [==============================] - 0s 22ms/step - loss: 0.4825 - accuracy: 0.8924 - val_loss: 1.5485 - val_accuracy: 0.7500\n",
            "Epoch 98/500\n",
            "7/7 [==============================] - 0s 22ms/step - loss: 0.4816 - accuracy: 0.9013 - val_loss: 1.4566 - val_accuracy: 0.7679\n",
            "Epoch 99/500\n",
            "7/7 [==============================] - 0s 23ms/step - loss: 0.5351 - accuracy: 0.8834 - val_loss: 1.6399 - val_accuracy: 0.7143\n",
            "Epoch 100/500\n",
            "7/7 [==============================] - 0s 24ms/step - loss: 0.4383 - accuracy: 0.9327 - val_loss: 1.5500 - val_accuracy: 0.7679\n",
            "Epoch 101/500\n",
            "7/7 [==============================] - 0s 25ms/step - loss: 0.3814 - accuracy: 0.9238 - val_loss: 1.7180 - val_accuracy: 0.7679\n",
            "Epoch 102/500\n",
            "7/7 [==============================] - 0s 22ms/step - loss: 0.4447 - accuracy: 0.9058 - val_loss: 1.7898 - val_accuracy: 0.7679\n",
            "Epoch 103/500\n",
            "7/7 [==============================] - 0s 18ms/step - loss: 0.4434 - accuracy: 0.9193 - val_loss: 1.7193 - val_accuracy: 0.7321\n",
            "Epoch 104/500\n",
            "7/7 [==============================] - 0s 17ms/step - loss: 0.4111 - accuracy: 0.9417 - val_loss: 1.8584 - val_accuracy: 0.7321\n",
            "Epoch 105/500\n",
            "7/7 [==============================] - 0s 17ms/step - loss: 0.4183 - accuracy: 0.9193 - val_loss: 1.7813 - val_accuracy: 0.7500\n",
            "Epoch 106/500\n",
            "7/7 [==============================] - 0s 15ms/step - loss: 0.4160 - accuracy: 0.9238 - val_loss: 1.8708 - val_accuracy: 0.7500\n",
            "Epoch 107/500\n",
            "7/7 [==============================] - 0s 20ms/step - loss: 0.5067 - accuracy: 0.8834 - val_loss: 1.7094 - val_accuracy: 0.7321\n",
            "Epoch 108/500\n",
            "7/7 [==============================] - 0s 15ms/step - loss: 0.3822 - accuracy: 0.9193 - val_loss: 1.6878 - val_accuracy: 0.7500\n",
            "Epoch 109/500\n",
            "7/7 [==============================] - 0s 16ms/step - loss: 0.4087 - accuracy: 0.9283 - val_loss: 1.7905 - val_accuracy: 0.7500\n",
            "Epoch 110/500\n",
            "7/7 [==============================] - 0s 14ms/step - loss: 0.4050 - accuracy: 0.9148 - val_loss: 1.8278 - val_accuracy: 0.7321\n",
            "Epoch 111/500\n",
            "7/7 [==============================] - 0s 16ms/step - loss: 0.3986 - accuracy: 0.9238 - val_loss: 2.0753 - val_accuracy: 0.6964\n",
            "Epoch 112/500\n",
            "7/7 [==============================] - 0s 17ms/step - loss: 0.3811 - accuracy: 0.9238 - val_loss: 1.8567 - val_accuracy: 0.7500\n",
            "Epoch 113/500\n",
            "7/7 [==============================] - 0s 17ms/step - loss: 0.3839 - accuracy: 0.9462 - val_loss: 2.0237 - val_accuracy: 0.6786\n",
            "Epoch 114/500\n",
            "7/7 [==============================] - 0s 17ms/step - loss: 0.4388 - accuracy: 0.8924 - val_loss: 1.8350 - val_accuracy: 0.7143\n",
            "Epoch 115/500\n",
            "7/7 [==============================] - 0s 18ms/step - loss: 0.3616 - accuracy: 0.9372 - val_loss: 1.7161 - val_accuracy: 0.7321\n",
            "Epoch 116/500\n",
            "7/7 [==============================] - 0s 19ms/step - loss: 0.4452 - accuracy: 0.9103 - val_loss: 1.6465 - val_accuracy: 0.7500\n",
            "Epoch 117/500\n",
            "7/7 [==============================] - 0s 17ms/step - loss: 0.3649 - accuracy: 0.9417 - val_loss: 1.7168 - val_accuracy: 0.7500\n",
            "Epoch 118/500\n",
            "7/7 [==============================] - 0s 15ms/step - loss: 0.4474 - accuracy: 0.9013 - val_loss: 1.6782 - val_accuracy: 0.7857\n",
            "Epoch 119/500\n",
            "7/7 [==============================] - 0s 16ms/step - loss: 0.4022 - accuracy: 0.9238 - val_loss: 1.6005 - val_accuracy: 0.7857\n",
            "Epoch 120/500\n",
            "7/7 [==============================] - 0s 16ms/step - loss: 0.3856 - accuracy: 0.9417 - val_loss: 1.7801 - val_accuracy: 0.7500\n",
            "Epoch 121/500\n",
            "7/7 [==============================] - 0s 15ms/step - loss: 0.4479 - accuracy: 0.9103 - val_loss: 1.6652 - val_accuracy: 0.7679\n",
            "Epoch 122/500\n",
            "7/7 [==============================] - 0s 19ms/step - loss: 0.3960 - accuracy: 0.9193 - val_loss: 1.8113 - val_accuracy: 0.6964\n",
            "Epoch 123/500\n",
            "7/7 [==============================] - 0s 15ms/step - loss: 0.4015 - accuracy: 0.9283 - val_loss: 1.7111 - val_accuracy: 0.7679\n",
            "Epoch 124/500\n",
            "7/7 [==============================] - 0s 27ms/step - loss: 0.3604 - accuracy: 0.9417 - val_loss: 1.7176 - val_accuracy: 0.7500\n",
            "Epoch 125/500\n",
            "7/7 [==============================] - 0s 34ms/step - loss: 0.3395 - accuracy: 0.9238 - val_loss: 1.9010 - val_accuracy: 0.7679\n",
            "Epoch 126/500\n",
            "7/7 [==============================] - 0s 40ms/step - loss: 0.4308 - accuracy: 0.9058 - val_loss: 1.7543 - val_accuracy: 0.7857\n",
            "Epoch 127/500\n",
            "7/7 [==============================] - 0s 29ms/step - loss: 0.3672 - accuracy: 0.9372 - val_loss: 1.7483 - val_accuracy: 0.7321\n",
            "Epoch 128/500\n",
            "7/7 [==============================] - 0s 33ms/step - loss: 0.4071 - accuracy: 0.9372 - val_loss: 1.8451 - val_accuracy: 0.6964\n",
            "Epoch 129/500\n",
            "7/7 [==============================] - 0s 45ms/step - loss: 0.3250 - accuracy: 0.9552 - val_loss: 1.6127 - val_accuracy: 0.7679\n",
            "Epoch 130/500\n",
            "7/7 [==============================] - 0s 33ms/step - loss: 0.3505 - accuracy: 0.9372 - val_loss: 1.7275 - val_accuracy: 0.7500\n",
            "Epoch 131/500\n",
            "7/7 [==============================] - 0s 40ms/step - loss: 0.3332 - accuracy: 0.9417 - val_loss: 1.7820 - val_accuracy: 0.7679\n",
            "Epoch 132/500\n",
            "7/7 [==============================] - 0s 29ms/step - loss: 0.3604 - accuracy: 0.9372 - val_loss: 1.8197 - val_accuracy: 0.7500\n",
            "Epoch 133/500\n",
            "7/7 [==============================] - 0s 15ms/step - loss: 0.3062 - accuracy: 0.9552 - val_loss: 1.8829 - val_accuracy: 0.7500\n",
            "Epoch 134/500\n",
            "7/7 [==============================] - 0s 15ms/step - loss: 0.3319 - accuracy: 0.9417 - val_loss: 1.9579 - val_accuracy: 0.7679\n",
            "Epoch 135/500\n",
            "7/7 [==============================] - 0s 16ms/step - loss: 0.3481 - accuracy: 0.9372 - val_loss: 1.9237 - val_accuracy: 0.7679\n",
            "Epoch 136/500\n",
            "7/7 [==============================] - 0s 15ms/step - loss: 0.3226 - accuracy: 0.9552 - val_loss: 1.8553 - val_accuracy: 0.7321\n",
            "Epoch 137/500\n",
            "7/7 [==============================] - 0s 17ms/step - loss: 0.3245 - accuracy: 0.9507 - val_loss: 1.8226 - val_accuracy: 0.7321\n",
            "Epoch 138/500\n",
            "7/7 [==============================] - 0s 17ms/step - loss: 0.3288 - accuracy: 0.9327 - val_loss: 1.8780 - val_accuracy: 0.7500\n",
            "Epoch 139/500\n",
            "7/7 [==============================] - 0s 16ms/step - loss: 0.2870 - accuracy: 0.9462 - val_loss: 1.9416 - val_accuracy: 0.7500\n",
            "Epoch 140/500\n",
            "7/7 [==============================] - 0s 19ms/step - loss: 0.2866 - accuracy: 0.9596 - val_loss: 1.8755 - val_accuracy: 0.7500\n",
            "Epoch 141/500\n",
            "7/7 [==============================] - 0s 20ms/step - loss: 0.3528 - accuracy: 0.9417 - val_loss: 1.8461 - val_accuracy: 0.7679\n",
            "Epoch 142/500\n",
            "7/7 [==============================] - 0s 15ms/step - loss: 0.3668 - accuracy: 0.9372 - val_loss: 1.7991 - val_accuracy: 0.7500\n",
            "Epoch 143/500\n",
            "7/7 [==============================] - 0s 15ms/step - loss: 0.3240 - accuracy: 0.9552 - val_loss: 1.7580 - val_accuracy: 0.7679\n",
            "Epoch 144/500\n",
            "7/7 [==============================] - 0s 14ms/step - loss: 0.2747 - accuracy: 0.9686 - val_loss: 1.7679 - val_accuracy: 0.7679\n",
            "Epoch 145/500\n",
            "7/7 [==============================] - 0s 15ms/step - loss: 0.3355 - accuracy: 0.9283 - val_loss: 1.9490 - val_accuracy: 0.7679\n",
            "Epoch 146/500\n",
            "7/7 [==============================] - 0s 15ms/step - loss: 0.3396 - accuracy: 0.9283 - val_loss: 2.0141 - val_accuracy: 0.7143\n",
            "Epoch 147/500\n",
            "7/7 [==============================] - 0s 15ms/step - loss: 0.3244 - accuracy: 0.9417 - val_loss: 2.2064 - val_accuracy: 0.7321\n",
            "Epoch 148/500\n",
            "7/7 [==============================] - 0s 18ms/step - loss: 0.3393 - accuracy: 0.9462 - val_loss: 2.0563 - val_accuracy: 0.7500\n",
            "Epoch 149/500\n",
            "7/7 [==============================] - 0s 19ms/step - loss: 0.3166 - accuracy: 0.9372 - val_loss: 1.8860 - val_accuracy: 0.7500\n",
            "Epoch 150/500\n",
            "7/7 [==============================] - 0s 16ms/step - loss: 0.3410 - accuracy: 0.9238 - val_loss: 1.9130 - val_accuracy: 0.7679\n",
            "Epoch 151/500\n",
            "7/7 [==============================] - 0s 22ms/step - loss: 0.3111 - accuracy: 0.9596 - val_loss: 1.9319 - val_accuracy: 0.7857\n",
            "Epoch 152/500\n",
            "7/7 [==============================] - 0s 15ms/step - loss: 0.3362 - accuracy: 0.9238 - val_loss: 1.7928 - val_accuracy: 0.7857\n",
            "Epoch 153/500\n",
            "7/7 [==============================] - 0s 15ms/step - loss: 0.3606 - accuracy: 0.9283 - val_loss: 1.8771 - val_accuracy: 0.7500\n",
            "Epoch 154/500\n",
            "7/7 [==============================] - 0s 18ms/step - loss: 0.3356 - accuracy: 0.9327 - val_loss: 1.9307 - val_accuracy: 0.7679\n",
            "Epoch 155/500\n",
            "7/7 [==============================] - 0s 15ms/step - loss: 0.3293 - accuracy: 0.9462 - val_loss: 1.8511 - val_accuracy: 0.7679\n",
            "Epoch 156/500\n",
            "7/7 [==============================] - 0s 17ms/step - loss: 0.3487 - accuracy: 0.9462 - val_loss: 1.8533 - val_accuracy: 0.7679\n",
            "Epoch 157/500\n",
            "7/7 [==============================] - 0s 20ms/step - loss: 0.2860 - accuracy: 0.9731 - val_loss: 1.8132 - val_accuracy: 0.7679\n",
            "Epoch 158/500\n",
            "7/7 [==============================] - 0s 17ms/step - loss: 0.3437 - accuracy: 0.9462 - val_loss: 1.9377 - val_accuracy: 0.7500\n",
            "Epoch 159/500\n",
            "7/7 [==============================] - 0s 15ms/step - loss: 0.3159 - accuracy: 0.9552 - val_loss: 1.9961 - val_accuracy: 0.7500\n",
            "Epoch 160/500\n",
            "7/7 [==============================] - 0s 16ms/step - loss: 0.2800 - accuracy: 0.9552 - val_loss: 1.9908 - val_accuracy: 0.7500\n",
            "Epoch 161/500\n",
            "7/7 [==============================] - 0s 34ms/step - loss: 0.2907 - accuracy: 0.9641 - val_loss: 1.9233 - val_accuracy: 0.7500\n",
            "Epoch 162/500\n",
            "7/7 [==============================] - 0s 27ms/step - loss: 0.2886 - accuracy: 0.9552 - val_loss: 1.9018 - val_accuracy: 0.7500\n",
            "Epoch 163/500\n",
            "7/7 [==============================] - 0s 43ms/step - loss: 0.3019 - accuracy: 0.9417 - val_loss: 1.8306 - val_accuracy: 0.7500\n",
            "Epoch 164/500\n",
            "7/7 [==============================] - 0s 25ms/step - loss: 0.3044 - accuracy: 0.9372 - val_loss: 1.7851 - val_accuracy: 0.7500\n",
            "Epoch 165/500\n",
            "7/7 [==============================] - 0s 70ms/step - loss: 0.2912 - accuracy: 0.9462 - val_loss: 1.8116 - val_accuracy: 0.7500\n",
            "Epoch 166/500\n",
            "7/7 [==============================] - 0s 18ms/step - loss: 0.2708 - accuracy: 0.9552 - val_loss: 1.9749 - val_accuracy: 0.7679\n",
            "Epoch 167/500\n",
            "7/7 [==============================] - 0s 18ms/step - loss: 0.3175 - accuracy: 0.9327 - val_loss: 1.9051 - val_accuracy: 0.7679\n",
            "Epoch 168/500\n",
            "7/7 [==============================] - 0s 18ms/step - loss: 0.2675 - accuracy: 0.9596 - val_loss: 1.9306 - val_accuracy: 0.7679\n",
            "Epoch 169/500\n",
            "7/7 [==============================] - 0s 20ms/step - loss: 0.3152 - accuracy: 0.9327 - val_loss: 1.7682 - val_accuracy: 0.7679\n",
            "Epoch 170/500\n",
            "7/7 [==============================] - 0s 24ms/step - loss: 0.2963 - accuracy: 0.9641 - val_loss: 1.7767 - val_accuracy: 0.7500\n",
            "Epoch 171/500\n",
            "7/7 [==============================] - 0s 33ms/step - loss: 0.3346 - accuracy: 0.9372 - val_loss: 1.9069 - val_accuracy: 0.7143\n",
            "Epoch 172/500\n",
            "7/7 [==============================] - 0s 53ms/step - loss: 0.3540 - accuracy: 0.9417 - val_loss: 1.7658 - val_accuracy: 0.7500\n",
            "Epoch 173/500\n",
            "7/7 [==============================] - 0s 61ms/step - loss: 0.3389 - accuracy: 0.9327 - val_loss: 1.9691 - val_accuracy: 0.7321\n",
            "Epoch 174/500\n",
            "7/7 [==============================] - 0s 40ms/step - loss: 0.3593 - accuracy: 0.9238 - val_loss: 1.9790 - val_accuracy: 0.7321\n",
            "Epoch 175/500\n",
            "7/7 [==============================] - 0s 47ms/step - loss: 0.3574 - accuracy: 0.9417 - val_loss: 1.8998 - val_accuracy: 0.7321\n",
            "Epoch 176/500\n",
            "7/7 [==============================] - 0s 23ms/step - loss: 0.3964 - accuracy: 0.9193 - val_loss: 1.8430 - val_accuracy: 0.7143\n",
            "Epoch 177/500\n",
            "7/7 [==============================] - 0s 20ms/step - loss: 0.4382 - accuracy: 0.8969 - val_loss: 1.7289 - val_accuracy: 0.7500\n",
            "Epoch 178/500\n",
            "7/7 [==============================] - 0s 23ms/step - loss: 0.3584 - accuracy: 0.9283 - val_loss: 2.0218 - val_accuracy: 0.6964\n",
            "Epoch 179/500\n",
            "7/7 [==============================] - 0s 21ms/step - loss: 0.3370 - accuracy: 0.9462 - val_loss: 1.9206 - val_accuracy: 0.7321\n",
            "Epoch 180/500\n",
            "5/7 [====================>.........] - ETA: 0s - loss: 0.3812 - accuracy: 0.9062\n",
            "Reached 0.7 val acc so cancelling training!\n",
            "7/7 [==============================] - 0s 23ms/step - loss: 0.3509 - accuracy: 0.9238 - val_loss: 1.6750 - val_accuracy: 0.8036\n",
            "CPU times: user 38.6 s, sys: 2.08 s, total: 40.7 s\n",
            "Wall time: 47.1 s\n"
          ]
        }
      ],
      "source": [
        "%%time\n",
        "# Training the model\n",
        "batch_size=32\n",
        "history = model.fit(train_dataset[0], train_dataset[1], epochs=500, callbacks = [cb], validation_data=test_dataset)"
      ]
    },
    {
      "cell_type": "markdown",
      "metadata": {},
      "source": [
        "# Show the accuracy and loss graph"
      ]
    },
    {
      "cell_type": "code",
      "execution_count": 27,
      "metadata": {
        "colab": {
          "base_uri": "https://localhost:8080/",
          "height": 881
        },
        "id": "F_7ARwJF1bc5",
        "outputId": "8fbfe00d-fa18-4931-9975-aacced097877"
      },
      "outputs": [
        {
          "data": {
            "image/png": "[encoded data removed]",
            "text/plain": [
              "<Figure size 640x480 with 1 Axes>"
            ]
          },
          "metadata": {},
          "output_type": "display_data"
        },
        {
          "data": {
            "image/png": "[encoded data removed]",
            "text/plain": [
              "<Figure size 640x480 with 1 Axes>"
            ]
          },
          "metadata": {},
          "output_type": "display_data"
        }
      ],
      "source": [
        "# Plot utility\n",
        "def plot_graphs(history, string):\n",
        "  plt.plot(history.history[string])\n",
        "  plt.plot(history.history['val_'+string])\n",
        "  plt.xlabel(\"Epochs\")\n",
        "  plt.ylabel(string)\n",
        "  plt.legend([string, 'val_'+string])\n",
        "  plt.show()\n",
        "\n",
        "# Plot the accuracy\n",
        "plot_graphs(history, \"accuracy\")\n",
        "plot_graphs(history, \"loss\")"
      ]
    },
    {
      "cell_type": "markdown",
      "metadata": {},
      "source": [
        "# Test the model"
      ]
    },
    {
      "cell_type": "code",
      "execution_count": 25,
      "metadata": {
        "colab": {
          "base_uri": "https://localhost:8080/"
        },
        "id": "RGfHnsuNz50k",
        "outputId": "0fff2ba6-0d14-4794-ac56-02c906a330be"
      },
      "outputs": [
        {
          "name": "stdout",
          "output_type": "stream",
          "text": [
            "👨‍🦰 Kamu : apa itu sampah organik?\n",
            "1/1 [==============================] - 1s 1s/step\n",
            "🤖 ChatbotX : Pengertian dari limbah sampah organik adalah suatu limbah yang berasal dari sisa-sisa makanan atau tumbuhan yang dapat terurai dengan cepat.\n",
            "👨‍🦰 Kamu : goodbye\n",
            "1/1 [==============================] - 0s 20ms/step\n",
            "🤖 ChatbotX : Bye!\n"
          ]
        }
      ],
      "source": [
        "# Membuat Input Chat\n",
        "while True:\n",
        "  texts_p = []\n",
        "  prediction_input = input('👨‍🦰 Kamu : ')\n",
        "\n",
        "  # Menghapus punktuasi dan konversi ke huruf kecil\n",
        "  prediction_input = [letters.lower() for letters in prediction_input if letters not in string.punctuation]\n",
        "  prediction_input = ''.join(prediction_input)\n",
        "  texts_p.append(prediction_input)\n",
        "\n",
        "  # Tokenisasi dan Padding\n",
        "  prediction_input = tokenizer.texts_to_sequences(texts_p)\n",
        "  prediction_input = np.array(prediction_input).reshape(-1)\n",
        "  prediction_input = pad_sequences([prediction_input],max_sequence_length)\n",
        "\n",
        "  # Mendapatkan hasil keluaran pada model\n",
        "  output = model.predict(prediction_input)\n",
        "  output = output.argmax()\n",
        "\n",
        "  # Menemukan respon sesuai data tag\n",
        "  response_tag = le.inverse_transform([output])[0]\n",
        "  print(\"🤖 ChatbotX :\",random.choice(responses[response_tag]))\n",
        "  if response_tag == \"goodbye\":\n",
        "    break"
      ]
    },
    {
      "cell_type": "markdown",
      "metadata": {
        "id": "UnMEo89Z2bM5"
      },
      "source": [
        "# Save the model, and variables"
      ]
    },
    {
      "cell_type": "code",
      "execution_count": 28,
      "metadata": {
        "colab": {
          "base_uri": "https://localhost:8080/"
        },
        "id": "EcbkYO1h1lvG",
        "outputId": "906b7b1d-95eb-4738-de9c-5b420c4e31a4"
      },
      "outputs": [
        {
          "name": "stderr",
          "output_type": "stream",
          "text": [
            "/usr/local/lib/python3.10/dist-packages/keras/src/engine/training.py:3103: UserWarning: You are saving your model as an HDF5 file via `model.save()`. This file format is considered legacy. We recommend using instead the native Keras format, e.g. `model.save('my_model.keras')`.\n",
            "  saving_api.save_model(\n"
          ]
        }
      ],
      "source": [
        "# Save the model\n",
        "model.save('model.h5')"
      ]
    },
    {
      "cell_type": "code",
      "execution_count": 33,
      "metadata": {
        "id": "F9w66pl20kCw"
      },
      "outputs": [],
      "source": [
        "import pickle\n",
        "\n",
        "# Save the tokenizer\n",
        "with open('tokenizer.pkl', 'wb') as file:\n",
        "    pickle.dump(tokenizer, file)\n",
        "\n",
        "# Save the max_sequence_length\n",
        "with open('max_sequence_length.pkl', 'wb') as file:\n",
        "    pickle.dump(max_sequence_length, file)\n",
        "\n",
        "# Save the le\n",
        "with open('le.pkl', 'wb') as file:\n",
        "    pickle.dump(le, file)\n",
        "\n",
        "# Save the responses\n",
        "with open('responses.pkl', 'wb') as file:\n",
        "    pickle.dump(responses, file)"
      ]
    },
    {
      "cell_type": "markdown",
      "metadata": {},
      "source": [
        "# Load the model, and variables"
      ]
    },
    {
      "cell_type": "code",
      "execution_count": 36,
      "metadata": {
        "colab": {
          "base_uri": "https://localhost:8080/"
        },
        "id": "cCTItDQrIrkY",
        "outputId": "5366d59b-b418-4a89-9484-2877b25b9f6d"
      },
      "outputs": [
        {
          "name": "stdout",
          "output_type": "stream",
          "text": [
            "👨‍🦰 Kamu : apa itu sampah?\n",
            "1/1 [==============================] - 3s 3s/step\n",
            "🤖 ChatbotX : Limbah sampah adalah sisa dari suatu usaha atau kegiatan yang dihasilkan oleh manusia dalam upaya memenuhi kebutuhan sehari-hari \n",
            "👨‍🦰 Kamu : goodbye\n",
            "1/1 [==============================] - 0s 20ms/step\n",
            "🤖 ChatbotX : Bye!\n"
          ]
        }
      ],
      "source": [
        "from keras.models import load_model\n",
        "\n",
        "# Define your model and variables here\n",
        "chatbot_model = load_model('/content/model.h5')\n",
        "tokenizer = pickle.load(open('/content/tokenizer.pkl','rb'))\n",
        "max_sequence_length = pickle.load(open('/content/max_sequence_length.pkl','rb'))\n",
        "le = pickle.load(open('/content/le.pkl','rb'))\n",
        "responses = pickle.load(open('/content/responses.pkl','rb'))\n",
        "\n",
        "# Membuat Input Chat\n",
        "while True:\n",
        "  texts_p = []\n",
        "  prediction_input = input('👨‍🦰 Kamu : ')\n",
        "\n",
        "  # Menghapus punktuasi dan konversi ke huruf kecil\n",
        "  prediction_input = [letters.lower() for letters in prediction_input if letters not in string.punctuation]\n",
        "  prediction_input = ''.join(prediction_input)\n",
        "  texts_p.append(prediction_input)\n",
        "\n",
        "  # Tokenisasi dan Padding\n",
        "  prediction_input = tokenizer.texts_to_sequences(texts_p)\n",
        "  prediction_input = np.array(prediction_input).reshape(-1)\n",
        "  prediction_input = pad_sequences([prediction_input],max_sequence_length)\n",
        "\n",
        "  # Mendapatkan hasil keluaran pada model\n",
        "  output = chatbot_model.predict(prediction_input)\n",
        "  output = output.argmax()\n",
        "\n",
        "  # Menemukan respon sesuai data tag\n",
        "  response_tag = le.inverse_transform([output])[0]\n",
        "  print(\"🤖 ChatbotX :\",random.choice(responses[response_tag]))\n",
        "  if response_tag == \"goodbye\":\n",
        "    break"
      ]
    },
    {
      "cell_type": "code",
      "execution_count": null,
      "metadata": {
        "id": "PYgOW7WH13nY"
      },
      "outputs": [],
      "source": []
    }
  ],
  "metadata": {
    "accelerator": "GPU",
    "colab": {
      "gpuType": "T4",
      "provenance": [],
      "toc_visible": true
    },
    "kernelspec": {
      "display_name": "Python 3",
      "name": "python3"
    },
    "language_info": {
      "name": "python"
    }
  },
  "nbformat": 4,
  "nbformat_minor": 0
}
